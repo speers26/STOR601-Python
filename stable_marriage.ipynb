{
 "cells": [
  {
   "cell_type": "code",
   "execution_count": 1,
   "id": "4e34789b",
   "metadata": {},
   "outputs": [],
   "source": [
    "## all code tested in Python 3.9.7 using jupyter notebook v6.4.5\n",
    "## with Windows 10 home OS build 19042.1466"
   ]
  },
  {
   "cell_type": "code",
   "execution_count": 2,
   "id": "730fb099",
   "metadata": {},
   "outputs": [],
   "source": [
    "## setting random number seed\n",
    "import random\n",
    "random.seed(2471)"
   ]
  },
  {
   "cell_type": "markdown",
   "id": "72416d8f",
   "metadata": {},
   "source": [
    "## Task 1"
   ]
  },
  {
   "cell_type": "markdown",
   "id": "92320769",
   "metadata": {},
   "source": [
    "a) function to determine the number of '1's in the binary representation of a positive number"
   ]
  },
  {
   "cell_type": "code",
   "execution_count": 3,
   "id": "d58e3b48",
   "metadata": {},
   "outputs": [],
   "source": [
    "## function to determine the number of 1s in the binary representation of a positive number\n",
    "## takes base 10 representation as input\n",
    "## finds binary representation using bin function\n",
    "## counts the 1s and returns as integer\n",
    "def bin_1s(x):\n",
    "    b = bin(x).replace(\"0b\",\"\") ## get binary representation \n",
    "    ones = b.count('1') ## count number of 1s\n",
    "    return ones"
   ]
  },
  {
   "cell_type": "code",
   "execution_count": 4,
   "id": "74c5589f",
   "metadata": {},
   "outputs": [
    {
     "data": {
      "text/plain": [
       "2"
      ]
     },
     "execution_count": 4,
     "metadata": {},
     "output_type": "execute_result"
    }
   ],
   "source": [
    "bin_1s(10) ## 10 in base 2 is 1010, output should be 2"
   ]
  },
  {
   "cell_type": "markdown",
   "id": "e5f874ee",
   "metadata": {},
   "source": [
    "b) function that determines which bits of the binary representation of a positive integer are '1's"
   ]
  },
  {
   "cell_type": "code",
   "execution_count": 52,
   "id": "ed7dfa27",
   "metadata": {},
   "outputs": [],
   "source": [
    "## function that determines the location of the 1s in the binary representation of a positive integer\n",
    "## takes base 10 representation as input\n",
    "## finds binary representation using bin function\n",
    "## creates list of indices for which the corresponding character in binary representation is a 1\n",
    "## returns this list\n",
    "def loc_1s(x):\n",
    "    b = bin(x).replace(\"0b\",\"\") \n",
    "    indices = [i for i, x in enumerate(b) if x==\"1\"] ## include index i in list if b[i]==1\n",
    "    return indices ## output list"
   ]
  },
  {
   "cell_type": "code",
   "execution_count": 53,
   "id": "f4370362",
   "metadata": {},
   "outputs": [
    {
     "data": {
      "text/plain": [
       "[0, 2]"
      ]
     },
     "execution_count": 53,
     "metadata": {},
     "output_type": "execute_result"
    }
   ],
   "source": [
    "loc_1s(10) ## looking at 1010, output should be 0,2"
   ]
  },
  {
   "cell_type": "markdown",
   "id": "0f42bfca",
   "metadata": {},
   "source": [
    "c) function that finds how many equal pairs of teams possible with 2k individuals"
   ]
  },
  {
   "cell_type": "code",
   "execution_count": 7,
   "id": "bbbb716a",
   "metadata": {},
   "outputs": [],
   "source": [
    "from math import comb ## import choose function from math"
   ]
  },
  {
   "cell_type": "code",
   "execution_count": 8,
   "id": "7414d6eb",
   "metadata": {},
   "outputs": [],
   "source": [
    "## function to determine the number of equal pairs of teams possible with 2k individuals \n",
    "## uses comb from math to calculate 2k choose k\n",
    "## then uses // operator to divide by 2 as this will return an integer which looks nicer\n",
    "## (can do this since output of comb will always be even)\n",
    "## returns integer number of pairs\n",
    "def no_pairs(k):\n",
    "    return comb(2*k,k)//2 ## number of pairs is equal to ways of picking k from 2k, divided by 2"
   ]
  },
  {
   "cell_type": "code",
   "execution_count": 9,
   "id": "f0b46520",
   "metadata": {},
   "outputs": [
    {
     "data": {
      "text/plain": [
       "3"
      ]
     },
     "execution_count": 9,
     "metadata": {},
     "output_type": "execute_result"
    }
   ],
   "source": [
    "no_pairs(2) ## for 4 individuals, we have (12,34),(13,24),(14,23) so output should be 3"
   ]
  },
  {
   "cell_type": "markdown",
   "id": "a7c4e37e",
   "metadata": {},
   "source": [
    "d) function that generates all the possible pairs of teams of size k"
   ]
  },
  {
   "cell_type": "code",
   "execution_count": 10,
   "id": "898122ea",
   "metadata": {},
   "outputs": [],
   "source": [
    "from itertools import combinations ## need this for teams function"
   ]
  },
  {
   "cell_type": "code",
   "execution_count": 11,
   "id": "cfecd294",
   "metadata": {},
   "outputs": [],
   "source": [
    "## function that generates all possible teams of size k\n",
    "## modified problem to take as input integer k (easier for testing)\n",
    "## then generates a list of 2k individuals [1,2,...,2k]\n",
    "## then uses combinations from itertools to find all selections of size k without repeats\n",
    "## pairs outermost teams together sequentially to give answer and returns\n",
    "def teams(k):\n",
    "    l = [i+1 for i in range(2*k)] ## generates list\n",
    "    com = list(combinations(l,k)) ## lists selections of size k without repeats (ie all possible individual teams)\n",
    "    t = [(com[i],com[len(com)-i-1]) for i in range(len(com)//2)] ## pairing opposite teams together \n",
    "    return t"
   ]
  },
  {
   "cell_type": "code",
   "execution_count": 12,
   "id": "b63cb356",
   "metadata": {},
   "outputs": [
    {
     "data": {
      "text/plain": [
       "[((1, 2), (3, 4)), ((1, 3), (2, 4)), ((1, 4), (2, 3))]"
      ]
     },
     "execution_count": 12,
     "metadata": {},
     "output_type": "execute_result"
    }
   ],
   "source": [
    "teams(2) ## want to see (12,34),(13,24),(14,23)"
   ]
  },
  {
   "cell_type": "code",
   "execution_count": 13,
   "id": "b2339df1",
   "metadata": {},
   "outputs": [
    {
     "data": {
      "text/plain": [
       "6435"
      ]
     },
     "execution_count": 13,
     "metadata": {},
     "output_type": "execute_result"
    }
   ],
   "source": [
    "no_pairs(8)"
   ]
  },
  {
   "cell_type": "code",
   "execution_count": 14,
   "id": "6a1392da",
   "metadata": {},
   "outputs": [
    {
     "data": {
      "text/plain": [
       "6435"
      ]
     },
     "execution_count": 14,
     "metadata": {},
     "output_type": "execute_result"
    }
   ],
   "source": [
    "len(teams(8)) ## testing for large(ish) k - length should be the same as no_pairs(8)"
   ]
  },
  {
   "cell_type": "markdown",
   "id": "f959e3af",
   "metadata": {},
   "source": [
    "## Task 2"
   ]
  },
  {
   "cell_type": "markdown",
   "id": "b24fda0e",
   "metadata": {},
   "source": [
    "a) I will use a dictionary (of lists) to represent the preference tables by creating two dictionaries each containing four lists. One will have each list indexed by a capital letter (males), with the list contents for each index being the order of preference for the male corresponding to the indexing capital letter. The second dictionary will similarly represent the order of preference of the females. I select a dictionary for this because other python data structures do not allow elements to be indexed by letters, e.g. lists."
   ]
  },
  {
   "cell_type": "markdown",
   "id": "41ad9538",
   "metadata": {},
   "source": [
    "b) I will use a list of tuples to represent a matching. I select this because the order of the matchings is important (first element will represent males, second females). "
   ]
  },
  {
   "cell_type": "markdown",
   "id": "b8dcfca1",
   "metadata": {},
   "source": [
    "## Task 3"
   ]
  },
  {
   "cell_type": "code",
   "execution_count": 15,
   "id": "b76893c6",
   "metadata": {},
   "outputs": [],
   "source": [
    "## function to generate random preference tables from \n",
    "## takes 2 lists of equal length as input\n",
    "## creates 2 dictionaries with the elements of each list as keys (one dictionary for each list)\n",
    "## assigns to the keys in each dictionary a random shuffle of the keys of the other dictionary (as a list)\n",
    "## returns the two dictionaries \n",
    "def pref(m,f):\n",
    "    M={};F={} ## initialise dictionaries\n",
    "    for j in m: M[j]=random.sample(f,len(f)) ## assign male preferences\n",
    "    for j in f: F[j]=random.sample(m,len(m)) ## assign female preferences\n",
    "    return M,F"
   ]
  },
  {
   "cell_type": "code",
   "execution_count": 16,
   "id": "9ddb8e9e",
   "metadata": {},
   "outputs": [
    {
     "data": {
      "text/plain": [
       "({'A': ['b', 'a'], 'B': ['b', 'a']}, {'a': ['A', 'B'], 'b': ['B', 'A']})"
      ]
     },
     "execution_count": 16,
     "metadata": {},
     "output_type": "execute_result"
    }
   ],
   "source": [
    "## testing function produces a reasonable looking output\n",
    "random_pref = pref([\"A\",\"B\"],[\"a\",\"b\"])\n",
    "random_pref"
   ]
  },
  {
   "cell_type": "code",
   "execution_count": 17,
   "id": "b463eee3",
   "metadata": {},
   "outputs": [],
   "source": [
    "## assertion test for random number seed\n",
    "assert random_pref == ({'A': ['b', 'a'], 'B': ['b', 'a']}, {'a': ['A', 'B'], 'b': ['B', 'A']})"
   ]
  },
  {
   "cell_type": "markdown",
   "id": "2987d7e4",
   "metadata": {},
   "source": [
    "## Task 4"
   ]
  },
  {
   "cell_type": "code",
   "execution_count": 18,
   "id": "371199ad",
   "metadata": {},
   "outputs": [],
   "source": [
    "## a function to determine if a pair of two preference tables is valid\n",
    "## takes as input to corresponding preference tables as dictionaries of lists\n",
    "## checks if the sorted list of the keys from each dictionary is equal to each of the sorted lists of values from the other dictionary \n",
    "## returns false if this is found to not be the case for any key/value pair\n",
    "## returns true if keys/values are checked without a difference being found\n",
    "def pref_valid(dm,df):\n",
    "    for i,j in zip(list(df.values()),list(dm.values())): ## iterate over values in each dictionary\n",
    "        if list(dm.keys()) != sorted(i) or list(df.keys()) != sorted(j): ## check for difference between preferences and keys\n",
    "            return False ## declare not valid if difference found\n",
    "    return True ## return true otherwise"
   ]
  },
  {
   "cell_type": "code",
   "execution_count": 19,
   "id": "ef7139be",
   "metadata": {},
   "outputs": [
    {
     "data": {
      "text/plain": [
       "True"
      ]
     },
     "execution_count": 19,
     "metadata": {},
     "output_type": "execute_result"
    }
   ],
   "source": [
    "dm, df = pref([\"A\",\"B\",\"C\",\"D\"],[\"a\",\"b\",\"c\",\"d\"]) ## using valid preference table\n",
    "pref_valid(dm,df)"
   ]
  },
  {
   "cell_type": "code",
   "execution_count": 20,
   "id": "ddc1a820",
   "metadata": {},
   "outputs": [],
   "source": [
    "d1={1:[0,0,0], 2:[0,0,0], 3:[0,0,0]} ## correct number of dimensions but wrong content\n",
    "d2={3:[4,4,8], 5:[6,6,8], 7:[8,8,8]}"
   ]
  },
  {
   "cell_type": "code",
   "execution_count": 21,
   "id": "96aeb5de",
   "metadata": {},
   "outputs": [
    {
     "data": {
      "text/plain": [
       "False"
      ]
     },
     "execution_count": 21,
     "metadata": {},
     "output_type": "execute_result"
    }
   ],
   "source": [
    "pref_valid(d1,d2)"
   ]
  },
  {
   "cell_type": "code",
   "execution_count": 22,
   "id": "46a4877b",
   "metadata": {},
   "outputs": [],
   "source": [
    "d3 = {\"A\":[\"a\",\"b\",\"B\"],\"B\":[\"a\",\"b\"]} ## correct content but not dimensions\n",
    "d4 = {\"a\":[\"A\",\"B\"],\"b\":[\"A\",\"B\"]}"
   ]
  },
  {
   "cell_type": "code",
   "execution_count": 23,
   "id": "b76940ed",
   "metadata": {},
   "outputs": [
    {
     "data": {
      "text/plain": [
       "False"
      ]
     },
     "execution_count": 23,
     "metadata": {},
     "output_type": "execute_result"
    }
   ],
   "source": [
    "pref_valid(d3,d4)"
   ]
  },
  {
   "cell_type": "markdown",
   "id": "a3eb91df",
   "metadata": {},
   "source": [
    "Demonstration with preference tables from lecture notes:"
   ]
  },
  {
   "cell_type": "code",
   "execution_count": 24,
   "id": "a0b97bc8",
   "metadata": {},
   "outputs": [],
   "source": [
    "test_dm = {\"A\":[\"c\",\"b\",\"d\",\"a\"],\"B\":[\"b\",\"a\",\"c\",\"d\"], \"C\":[\"b\",\"d\",\"a\",\"c\"], \"D\":[\"c\",\"a\",\"d\",\"b\"]}\n",
    "test_df = {\"a\":[\"A\",\"B\",\"D\",\"C\"], \"b\":[\"C\",\"A\",\"D\",\"B\"], \"c\":[\"C\",\"B\",\"D\",\"A\"], \"d\":[\"B\",\"A\",\"C\",\"D\"]}"
   ]
  },
  {
   "cell_type": "code",
   "execution_count": 25,
   "id": "0e8f1405",
   "metadata": {},
   "outputs": [
    {
     "data": {
      "text/plain": [
       "True"
      ]
     },
     "execution_count": 25,
     "metadata": {},
     "output_type": "execute_result"
    }
   ],
   "source": [
    "pref_valid(test_dm,test_df)"
   ]
  },
  {
   "cell_type": "markdown",
   "id": "16a4f6c8",
   "metadata": {},
   "source": [
    "## Task 5"
   ]
  },
  {
   "cell_type": "code",
   "execution_count": 26,
   "id": "401c3a11",
   "metadata": {},
   "outputs": [],
   "source": [
    "## function to determine if a mactching for a given pair of preference tables is stable\n",
    "## takes as input a preference table pair as dictionaries of lists and a matching as a list of tuples\n",
    "## iterates over the matching pairs\n",
    "## considers the male in the pair and generates a list of females the male prefers to his wife\n",
    "## then iterates over this list\n",
    "## generates a list of males each of these females prefers to their current husband\n",
    "## checks if the current male being considered exists in this list - matching is declared unstable if this is the case\n",
    "## if not for all males, matching is declared stable\n",
    "## returns boolean value\n",
    "def stable(dm,df,match):\n",
    "    for k in match: ## for each matching pair\n",
    "        male_preferred = [i for i in dm[k[0]] if dm[k[0]].index(i)<dm[k[0]].index(k[1])] ## get list of what each male prefers to current mathcing\n",
    "        for j in male_preferred: ## for each female current male (k[0]) prefers\n",
    "            female_match = [k[0] for k in match if k[1]==j][0] ## find current matched male\n",
    "            female_preferred = [i for i in df[j] if df[j].index(i)<df[j].index(female_match)] ## get list of males female prefers to current match\n",
    "            if (bool(set(k[0]) & set(female_preferred))): return False ## if current male is in preferred list for female, matching is unstable\n",
    "    return True"
   ]
  },
  {
   "cell_type": "markdown",
   "id": "c6a6b2b1",
   "metadata": {},
   "source": [
    "Test with unstable matchings from lecture notes:"
   ]
  },
  {
   "cell_type": "code",
   "execution_count": 27,
   "id": "56380a97",
   "metadata": {},
   "outputs": [],
   "source": [
    "test_dm = {\"A\":[\"c\",\"b\",\"d\",\"a\"],\"B\":[\"b\",\"a\",\"c\",\"d\"], \"C\":[\"b\",\"d\",\"a\",\"c\"], \"D\":[\"c\",\"a\",\"d\",\"b\"]}\n",
    "test_df = {\"a\":[\"A\",\"B\",\"D\",\"C\"], \"b\":[\"C\",\"A\",\"D\",\"B\"], \"c\":[\"C\",\"B\",\"D\",\"A\"], \"d\":[\"B\",\"A\",\"C\",\"D\"]}"
   ]
  },
  {
   "cell_type": "code",
   "execution_count": 28,
   "id": "0d5906e7",
   "metadata": {},
   "outputs": [
    {
     "data": {
      "text/plain": [
       "False"
      ]
     },
     "execution_count": 28,
     "metadata": {},
     "output_type": "execute_result"
    }
   ],
   "source": [
    "match = [(\"A\",\"a\"),(\"B\",\"b\"),(\"C\",\"c\"),(\"D\",\"d\")]\n",
    "stable(test_dm,test_df,match)"
   ]
  },
  {
   "cell_type": "code",
   "execution_count": 29,
   "id": "158b8920",
   "metadata": {},
   "outputs": [
    {
     "data": {
      "text/plain": [
       "False"
      ]
     },
     "execution_count": 29,
     "metadata": {},
     "output_type": "execute_result"
    }
   ],
   "source": [
    "match = [(\"A\",\"b\"),(\"B\",\"a\"),(\"C\",\"c\"),(\"D\",\"d\")]\n",
    "stable(test_dm,test_df,match)"
   ]
  },
  {
   "cell_type": "code",
   "execution_count": 30,
   "id": "9c366816",
   "metadata": {},
   "outputs": [
    {
     "data": {
      "text/plain": [
       "False"
      ]
     },
     "execution_count": 30,
     "metadata": {},
     "output_type": "execute_result"
    }
   ],
   "source": [
    "match = [(\"A\",\"c\"),(\"B\",\"a\"),(\"C\",\"b\"),(\"D\",\"d\")]\n",
    "stable(test_dm,test_df,match)"
   ]
  },
  {
   "cell_type": "markdown",
   "id": "8a46265b",
   "metadata": {},
   "source": [
    "Test with stable matching from lecture notes:"
   ]
  },
  {
   "cell_type": "code",
   "execution_count": 31,
   "id": "409161ad",
   "metadata": {},
   "outputs": [
    {
     "data": {
      "text/plain": [
       "True"
      ]
     },
     "execution_count": 31,
     "metadata": {},
     "output_type": "execute_result"
    }
   ],
   "source": [
    "match = [(\"A\",\"d\"),(\"B\",\"a\"),(\"C\",\"b\"),(\"D\",\"c\")]\n",
    "stable(test_dm,test_df,match) ## expect True"
   ]
  },
  {
   "cell_type": "markdown",
   "id": "3ae7c82d",
   "metadata": {},
   "source": [
    "## Task 6"
   ]
  },
  {
   "cell_type": "code",
   "execution_count": 32,
   "id": "a770037a",
   "metadata": {},
   "outputs": [],
   "source": [
    "## function to determine the score of a matching for a preference table pair\n",
    "## takes as input a preference table pair as dictionaries of lists and a matching as a list of tuples\n",
    "## creates and sums over a list of the indexes for each male in the matched to female's preference order\n",
    "## creates and sums over a list of the indexes for each female in the matched to male's preference order\n",
    "## returns these two as integers\n",
    "def score(dm,df,match):\n",
    "    scoref = sum([df[k[1]].index(k[0]) for k in match]) ## take preference index (0,1,2,3) of each matching for female\n",
    "    scorem = sum([dm[k[0]].index(k[1]) for k in match]) ## take preference index (0,1,2,3) of each matching for male\n",
    "    return scorem,scoref"
   ]
  },
  {
   "cell_type": "code",
   "execution_count": 33,
   "id": "c2235e04",
   "metadata": {},
   "outputs": [],
   "source": [
    "## consider example from lectures\n",
    "test_dm = {\"A\":[\"c\",\"b\",\"d\",\"a\"],\"B\":[\"b\",\"a\",\"c\",\"d\"], \"C\":[\"b\",\"d\",\"a\",\"c\"], \"D\":[\"c\",\"a\",\"d\",\"b\"]}\n",
    "test_df = {\"a\":[\"A\",\"B\",\"D\",\"C\"], \"b\":[\"C\",\"A\",\"D\",\"B\"], \"c\":[\"C\",\"B\",\"D\",\"A\"], \"d\":[\"B\",\"A\",\"C\",\"D\"]}\n",
    "match = [(\"A\",\"d\"),(\"B\",\"a\"),(\"C\",\"b\"),(\"D\",\"c\")]"
   ]
  },
  {
   "cell_type": "code",
   "execution_count": 34,
   "id": "f7808591",
   "metadata": {},
   "outputs": [
    {
     "data": {
      "text/plain": [
       "(3, 4)"
      ]
     },
     "execution_count": 34,
     "metadata": {},
     "output_type": "execute_result"
    }
   ],
   "source": [
    "test_score = score(test_dm,test_df,match) ## expect 2+1+0+0=3 and 1+1+2+0=4\n",
    "test_score"
   ]
  },
  {
   "cell_type": "markdown",
   "id": "93017791",
   "metadata": {},
   "source": [
    "## Task 7"
   ]
  },
  {
   "cell_type": "markdown",
   "id": "e293920f",
   "metadata": {},
   "source": [
    "a) I could include the \"very undesirable\" imaginary man in my preference table dictionaries by adding a fifth element \"O\" to each of the females' preference lists.  "
   ]
  },
  {
   "cell_type": "code",
   "execution_count": 35,
   "id": "767c6675",
   "metadata": {},
   "outputs": [],
   "source": [
    "## function to implement the fundamental algorithm to find a stable matching\n",
    "## takes as input a pair of preference tables as dictionaries of lists\n",
    "## uses deepcopy from copy to avoid issues with two labels referencing the same dictionary by creating a deepcopy of each \n",
    "## deals with very undesiarable man by appending to each element of the female dictionary \"O\"\n",
    "## creates list of tuples matching where each female is paired with this \"O\" for initial matching\n",
    "## performs fundamental algorithm described in lecture notes\n",
    "## returns stable matching as list of tuples\n",
    "import copy\n",
    "def fundamental(dm,df):\n",
    "    df2=copy.deepcopy(df); dm2=copy.deepcopy(dm) ## create local versions of preference tables to edit\n",
    "    for i in df2.keys(): df2[i].append(\"O\") ## add imaginary man O\n",
    "    match = [(\"O\",j) for j in df2.keys()] ## temporarily engage all women to O \n",
    "    for i in dm2.keys():\n",
    "        X=i ## set to ith man\n",
    "        while X != \"O\":\n",
    "            x = dm2[X][0] ## set to most wanted women for ith man\n",
    "            x_fiance = [k[0] for k in match if k[1]==x][0] ## get current fiance for x\n",
    "            if df2[x].index(X) < df2[x].index(x_fiance): ## check if x prefers new option\n",
    "                match = [(X,x) if i==(x_fiance,x) else i for i in match] ## engage X and x\n",
    "                X = x_fiance ## set X to jilted fiance\n",
    "            if X != \"O\": dm2[X].remove(x) ## remove best choice from ith man's list/remove ex-fiance from jilted's list\n",
    "    return match  "
   ]
  },
  {
   "cell_type": "markdown",
   "id": "ed2c3cbf",
   "metadata": {},
   "source": [
    "Testing using preference tables from lecture notes:"
   ]
  },
  {
   "cell_type": "code",
   "execution_count": 36,
   "id": "1bd63676",
   "metadata": {},
   "outputs": [],
   "source": [
    "lec_dm = {\"A\":[\"c\",\"b\",\"d\",\"a\"],\"B\":[\"b\",\"a\",\"c\",\"d\"], \"C\":[\"b\",\"d\",\"a\",\"c\"], \"D\":[\"c\",\"a\",\"d\",\"b\"]}\n",
    "lec_df = {\"a\":[\"A\",\"B\",\"D\",\"C\"], \"b\":[\"C\",\"A\",\"D\",\"B\"], \"c\":[\"C\",\"B\",\"D\",\"A\"], \"d\":[\"B\",\"A\",\"C\",\"D\"]}"
   ]
  },
  {
   "cell_type": "code",
   "execution_count": 37,
   "id": "672f39ce",
   "metadata": {},
   "outputs": [
    {
     "data": {
      "text/plain": [
       "[('B', 'a'), ('C', 'b'), ('D', 'c'), ('A', 'd')]"
      ]
     },
     "execution_count": 37,
     "metadata": {},
     "output_type": "execute_result"
    }
   ],
   "source": [
    "fundamental(lec_dm,lec_df) ## outputs stable matching given in lecture notes"
   ]
  },
  {
   "cell_type": "markdown",
   "id": "9deda7c1",
   "metadata": {},
   "source": [
    "Testing with random preference tables:"
   ]
  },
  {
   "cell_type": "code",
   "execution_count": 38,
   "id": "54ba05ba",
   "metadata": {},
   "outputs": [],
   "source": [
    "test_dm, test_df = pref([\"A\",\"B\",\"C\",\"D\"],[\"a\",\"b\",\"c\",\"d\"])"
   ]
  },
  {
   "cell_type": "code",
   "execution_count": 39,
   "id": "2efc4121",
   "metadata": {},
   "outputs": [
    {
     "data": {
      "text/plain": [
       "[('C', 'a'), ('D', 'b'), ('A', 'c'), ('B', 'd')]"
      ]
     },
     "execution_count": 39,
     "metadata": {},
     "output_type": "execute_result"
    }
   ],
   "source": [
    "test_match=fundamental(test_dm,test_df)\n",
    "test_match"
   ]
  },
  {
   "cell_type": "code",
   "execution_count": 40,
   "id": "f5312271",
   "metadata": {},
   "outputs": [],
   "source": [
    "## assertion test for random number seed\n",
    "assert test_match == [('C', 'a'), ('D', 'b'), ('A', 'c'), ('B', 'd')]\n",
    "assert test_dm == {'A': ['b', 'c', 'a', 'd'], 'B': ['c', 'd', 'b', 'a'], 'C': ['a', 'b', 'd', 'c'], 'D': ['a', 'b', 'c', 'd']}\n",
    "assert test_df == {'a': ['B', 'A', 'C', 'D'], 'b': ['C', 'B', 'D', 'A'], 'c': ['A', 'C', 'B', 'D'], 'd': ['A', 'D', 'C', 'B']}"
   ]
  },
  {
   "cell_type": "code",
   "execution_count": 41,
   "id": "c26e359c",
   "metadata": {},
   "outputs": [
    {
     "data": {
      "text/plain": [
       "True"
      ]
     },
     "execution_count": 41,
     "metadata": {},
     "output_type": "execute_result"
    }
   ],
   "source": [
    "stable(test_dm,test_df,test_match) ## check this is a stable matching"
   ]
  },
  {
   "cell_type": "markdown",
   "id": "d6d0643b",
   "metadata": {},
   "source": [
    "## Task 8"
   ]
  },
  {
   "cell_type": "code",
   "execution_count": 42,
   "id": "ca33aa0d",
   "metadata": {},
   "outputs": [],
   "source": [
    "import time"
   ]
  },
  {
   "cell_type": "code",
   "execution_count": 43,
   "id": "3fbb4a85",
   "metadata": {},
   "outputs": [],
   "source": [
    "## function for creating two preference tables from lists of size n\n",
    "## creates create males [(M1,M2,...,MN)] and females [(F1,F2,...,FN)]\n",
    "## then uses pref function from Task 3 to form preference tables\n",
    "def create_pref(n): \n",
    "    males = [\"M\"+str(i) for i in range(n)] ## create males \n",
    "    females = [\"F\"+str(i) for i in range(n)] ## create females \n",
    "    return pref(males, females) ## form prefence tables"
   ]
  },
  {
   "cell_type": "code",
   "execution_count": 44,
   "id": "b9668c7d",
   "metadata": {},
   "outputs": [],
   "source": [
    "## function for timing implementation of fundamental algorithm on n dimensional matrix\n",
    "## begins by creating generic n dimensional preference tables using creat_pref functin\n",
    "## then records time taken to find stable matching using fundamental function\n",
    "def timer(n): \n",
    "    dm,df = create_pref(n) ## create random preference tables\n",
    "    start = time.perf_counter() ## take initial time\n",
    "    fundamental(dm,df) ## perform algorithm\n",
    "    end = time.perf_counter() ## take end time\n",
    "    return (end-start) ## return time elapsed"
   ]
  },
  {
   "cell_type": "code",
   "execution_count": 45,
   "id": "5852464b",
   "metadata": {},
   "outputs": [],
   "source": [
    "times={}\n",
    "N = 100; r = 10 ## N = max number of males/females to go to, r = number of replications \n",
    "## N = 100; r = 500 ## i used this for a smoother curve\n",
    "for i in range(2,N+1): ## implement timer function r times for each size N\n",
    "    times[i]=[timer(i)]\n",
    "    for j in range(r-1): times[i].append(timer(i))"
   ]
  },
  {
   "cell_type": "code",
   "execution_count": 46,
   "id": "e546d34f",
   "metadata": {},
   "outputs": [],
   "source": [
    "import matplotlib.pyplot as plt"
   ]
  },
  {
   "cell_type": "code",
   "execution_count": 47,
   "id": "fa7bc1cf",
   "metadata": {},
   "outputs": [],
   "source": [
    "av_times = {} \n",
    "for i in times.keys(): av_times[i] = sum(times[i])/len(times[i]) ## average implementation times over replications "
   ]
  },
  {
   "cell_type": "code",
   "execution_count": 48,
   "id": "d22253c1",
   "metadata": {},
   "outputs": [
    {
     "name": "stdout",
     "output_type": "stream",
     "text": [
      "\n"
     ]
    },
    {
     "data": {
      "image/png": "[encoded data removed]",
      "text/plain": [
       "<Figure size 432x288 with 1 Axes>"
      ]
     },
     "metadata": {
      "needs_background": "light"
     },
     "output_type": "display_data"
    }
   ],
   "source": [
    "plt.plot(list(av_times.keys()), list(av_times.values()),color='red'); print(\"\") ## plot "
   ]
  },
  {
   "cell_type": "markdown",
   "id": "300efdab",
   "metadata": {},
   "source": [
    "The time taken to perform the fundamental algorithm appears to grow in n^2. This makes sense in relation to my implementation of the algorithm as there are n men to check with (proportional to) n women to check their eligibilty to."
   ]
  },
  {
   "cell_type": "markdown",
   "id": "0fc23ed1",
   "metadata": {},
   "source": [
    "## Task 9"
   ]
  },
  {
   "cell_type": "code",
   "execution_count": 49,
   "id": "86e586be",
   "metadata": {},
   "outputs": [],
   "source": [
    "n=100 ## dimension of preference tables\n",
    "r=1000 ## number of repetitions\n",
    "scores = []\n",
    "for i in range(r):\n",
    "    dm, df = create_pref(n)\n",
    "    scores.append(score(dm,df,fundamental(dm,df)))"
   ]
  },
  {
   "cell_type": "code",
   "execution_count": 50,
   "id": "4b9b4a4f",
   "metadata": {},
   "outputs": [],
   "source": [
    "## assertion test for random number seed\n",
    "sum_scores = sum([i+j for (i,j) in scores])\n",
    "assert sum_scores == 2332731"
   ]
  },
  {
   "cell_type": "code",
   "execution_count": 51,
   "id": "0eca76c5",
   "metadata": {},
   "outputs": [
    {
     "name": "stdout",
     "output_type": "stream",
     "text": [
      "\n"
     ]
    },
    {
     "data": {
      "image/png": "[encoded data removed]",
      "text/plain": [
       "<Figure size 432x288 with 1 Axes>"
      ]
     },
     "metadata": {
      "needs_background": "light"
     },
     "output_type": "display_data"
    }
   ],
   "source": [
    "mscores = [i for (i,j) in scores]\n",
    "fscores = [j for (i,j) in scores]\n",
    "plt.plot(mscores,fscores,'o',color='red')\n",
    "plt.xlabel(\"male scores\"); plt.ylabel(\"female scores\"); print(\"\")"
   ]
  },
  {
   "cell_type": "markdown",
   "id": "60e8f96d",
   "metadata": {},
   "source": [
    "There appears to be a negative (roughly linear) negative correlation between the scores for males and females. This makes sense as the action in the algorithm which reduces female score (replacing their fiance with a preferable male) consequently increases the score for the replaced male.\n",
    "\n",
    "The male scores are also generally much lower than the females. This makes sense as we approach the fundamental agolorithm from the males perspective, attempting to assign them to their most preferred viable female."
   ]
  },
  {
   "cell_type": "markdown",
   "id": "9292d69f",
   "metadata": {},
   "source": [
    "## Task 10"
   ]
  },
  {
   "cell_type": "markdown",
   "id": "c9a977e2",
   "metadata": {},
   "source": [
    "Re-runnable: I provided information about the Python version, the Jupyter notebook version and the OS the code was tested on."
   ]
  },
  {
   "cell_type": "markdown",
   "id": "ddfaa67d",
   "metadata": {},
   "source": [
    "Repeatable: Added setting a random number seed at the start of the notebook."
   ]
  },
  {
   "cell_type": "markdown",
   "id": "ada82ea0",
   "metadata": {},
   "source": [
    "Reproducible: Added assertions throughout to determine if random functions give outputs expected with given random number seed. Also made sure all plots come from the same (latest) version and that plotting code and data is given with plots."
   ]
  },
  {
   "cell_type": "markdown",
   "id": "d84d0081",
   "metadata": {},
   "source": [
    "Reusable: Added more in-line comments to code and provided more detailed information about the system the code had been tested on - e.g. OS version."
   ]
  },
  {
   "cell_type": "markdown",
   "id": "2f397fef",
   "metadata": {},
   "source": [
    "Replicable: Added detailed explantation of the inputs, processes and outputs of each function with the aim that it would be possible to just read these and replicate the behaviour of the function in any programming language. "
   ]
  }
 ],
 "metadata": {
  "kernelspec": {
   "display_name": "Python 3 (ipykernel)",
   "language": "python",
   "name": "python3"
  },
  "language_info": {
   "codemirror_mode": {
    "name": "ipython",
    "version": 3
   },
   "file_extension": ".py",
   "mimetype": "text/x-python",
   "name": "python",
   "nbconvert_exporter": "python",
   "pygments_lexer": "ipython3",
   "version": "3.9.7"
  }
 },
 "nbformat": 4,
 "nbformat_minor": 5
}
